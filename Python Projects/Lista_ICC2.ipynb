{
 "cells": [
  {
   "cell_type": "code",
   "execution_count": 3,
   "metadata": {},
   "outputs": [],
   "source": [
    "#Funções\n",
    "\n",
    "##Sublista dos k primeiros elementos\n",
    "\n",
    "def sub_l(list,k):\n",
    "    while(len(list)>k):\n",
    "        list.pop()\n",
    "    return list\n",
    "\n",
    "##Sublista dos k ultimos elementos\n",
    "def sub_l2(list,k):\n",
    "    i=0\n",
    "    while(len(list)!=k):\n",
    "        list.pop(i)\n",
    "    return list"
   ]
  },
  {
   "cell_type": "code",
   "execution_count": null,
   "metadata": {},
   "outputs": [],
   "source": [
    "#Questão 1\n",
    "s = int(input(\"Digite um número: \"))\n",
    "\n",
    "min = s//60\n",
    "h = min//60\n",
    "\n",
    "if s%60<10:\n",
    "    segundos=f'0{s%60}'\n",
    "else:\n",
    "    segundos=f'{s%60}'\n",
    "print(segundos)\n",
    "\n",
    "if min%60<10:\n",
    "    minutos=f'0{min%60}'\n",
    "else:\n",
    "    minutos=f'{min%60}'\n",
    "print(minutos)\n",
    "\n",
    "if h<10:\n",
    "    horas=f'0{h%60}'\n",
    "else:\n",
    "    horas=f'{h%60}'\n",
    "print(horas)\n",
    "\n",
    "print(f'{horas}:{minutos}:{segundos}')\n"
   ]
  },
  {
   "cell_type": "code",
   "execution_count": 6,
   "metadata": {},
   "outputs": [
    {
     "name": "stdout",
     "output_type": "stream",
     "text": [
      "não é um triângulo retângulo\n"
     ]
    }
   ],
   "source": [
    "#Questão 2\n",
    "def triangRetang():\n",
    "    Lados = []\n",
    "    for i in range (3):\n",
    "        nums = int(input('numero: '))\n",
    "        Lados.append(nums)\n",
    "\n",
    "    k=0\n",
    "    z=0\n",
    "    for i in range (3):\n",
    "        l = Lados[i]\n",
    "        s =l*l\n",
    "        if (k<s):\n",
    "            k=s\n",
    "        z+=s\n",
    "\n",
    "    if(z-2*k==0):\n",
    "        print('É um triângulo retângulo')\n",
    "    else:\n",
    "        print('não é um triângulo retângulo')\n",
    "\n",
    "triangRetang()"
   ]
  },
  {
   "cell_type": "code",
   "execution_count": 3,
   "metadata": {},
   "outputs": [],
   "source": [
    "#Questão3\n",
    "def issubset():\n",
    "    elementos = set()\n",
    "    for i in range (5):\n",
    "        nums = int(input('numero: '))\n",
    "        elementos.add(nums)\n",
    "\n",
    "    if (len(elementos)==3):\n",
    "        return \"1\"\n",
    "    else:\n",
    "        return \"0\"\n",
    "\n",
    "a = issubset()\n",
    "print(a)\n"
   ]
  },
  {
   "cell_type": "code",
   "execution_count": 2,
   "metadata": {},
   "outputs": [
    {
     "name": "stdout",
     "output_type": "stream",
     "text": [
      "[1, 2, 4, 7, 14, 28]\n",
      "O número é perfeito\n"
     ]
    }
   ],
   "source": [
    "#Questão 4\n",
    "import divisores\n",
    "a = int(input('Escreva o seu numero: '))\n",
    "print(divisores.div(a))\n",
    "print(divisores.ehperfeito(a))"
   ]
  },
  {
   "cell_type": "code",
   "execution_count": 14,
   "metadata": {},
   "outputs": [
    {
     "name": "stdout",
     "output_type": "stream",
     "text": [
      "edcba\n"
     ]
    }
   ],
   "source": [
    "#Questão 5\n",
    "\n",
    "n = input('Digite o tamanho máximo da frase: ')\n",
    "\n",
    "num = int(n[0])\n",
    "cad = n[2:num+2]\n",
    "cad_inv= \"\"\n",
    "for i in range(len(cad)-1,-1,-1):\n",
    "    cad_inv+=cad[i]\n",
    "cad_inv = str(cad_inv)\n",
    "print(cad_inv)\n",
    "\n"
   ]
  },
  {
   "cell_type": "code",
   "execution_count": null,
   "metadata": {},
   "outputs": [],
   "source": [
    "#Questão 6\n",
    "\n",
    "n = int(input('Digite o tamanho da matriz:'))\n",
    "\n",
    "valores = []\n",
    "valores2= []\n",
    "soma=0\n",
    "\n",
    "for i in range(n):\n",
    "    valor = int(input('Digite um número inteiro:'))\n",
    "    valores.append(valor)\n",
    "print(valores)\n",
    "\n",
    "m = int(input('Digite um número inteiro:'))\n",
    "\n",
    "valores1=[x for x in valores if x > m]\n",
    "print(valores1)\n",
    "\n",
    "for x in valores1:\n",
    "    if (x not in valores2):\n",
    "        valores2.append(x)\n",
    "for x in valores2:\n",
    "    soma+=x\n",
    "print(valores2)"
   ]
  },
  {
   "cell_type": "code",
   "execution_count": 21,
   "metadata": {},
   "outputs": [
    {
     "name": "stdout",
     "output_type": "stream",
     "text": [
      "[2, 1, 1] [1, 2, 1] [1, 1, 2] [2, 0, 2] [0, 1, 0] [0, 1, 0] [2] [1] [1] [1]\n"
     ]
    }
   ],
   "source": [
    "#Questão 7\n",
    "X='X'\n",
    "O='O'\n",
    "velha=[[X,0,X],\n",
    "       [0,O,0],\n",
    "       [0,X,X]]\n",
    "\n",
    "def melhorjogada(list):\n",
    "    vaziac=[0,0,0]\n",
    "    for j in range(3):\n",
    "        for i in range(3):\n",
    "            if (list[i][j]==0):\n",
    "                vaziac[j]=vaziac[j]+1\n",
    "    vazial=[0,0,0]\n",
    "    for i in range(3):\n",
    "        for j in range(3):\n",
    "            if (list[i][j]==0):\n",
    "                vazial[i]=vazial[i]+1\n",
    "    contcX=[0,0,0]\n",
    "    for j in range(3):\n",
    "        for i in range(3):\n",
    "            if (list[i][j]==X):\n",
    "                contcX[j]+=1\n",
    "    contlX=[0,0,0]\n",
    "    for j in range(3):\n",
    "        for i in range(3):\n",
    "            if (list[j][i]==X):\n",
    "                contlX[j]+=1\n",
    "    contcO=[0,0,0]\n",
    "    for j in range(3):\n",
    "        for i in range(3):\n",
    "            if (list[i][j]==O):\n",
    "                contcO[j]+=1\n",
    "    contlO=[0,0,0]\n",
    "    for j in range(3):\n",
    "        for i in range(3):\n",
    "            if (list[j][i]==O):\n",
    "                contlO[j]+=1\n",
    "    contdX=[0]\n",
    "    for j in range(3):\n",
    "        if (list[j][j]==X):\n",
    "                contdX[0]+=1\n",
    "    contdO=[0]\n",
    "    for j in range(3):\n",
    "        if (list[j][j]==O):\n",
    "                contdO[0]+=1\n",
    "    contd2X=[0]\n",
    "    for j in range(3):\n",
    "        i=2-j\n",
    "        if (list[i][j]==X):\n",
    "                contd2X[0]+=1\n",
    "    contd2O=[0]\n",
    "    for j in range(3):\n",
    "        i=2-j\n",
    "        if (list[i][j]==O):\n",
    "                contd2O[0]+=1          \n",
    "\n",
    "\n",
    "    print(vaziac,vazial,contcX,contlX,contcO,contlO,contdX,contdO,contd2X,contd2O)\n",
    "    for i in range(3):\n",
    "        for j in range(3):\n",
    "        if (vazial[i]==1 and vaziac[j]==1):\n",
    "            if contcX[i]==2:\n",
    "                 co\n",
    "melhorjogada(velha)\n",
    "\n"
   ]
  },
  {
   "cell_type": "code",
   "execution_count": null,
   "metadata": {},
   "outputs": [],
   "source": [
    "#Questão 11\n",
    "\n",
    "frase = input('Escreva uma frase: ').split()\n",
    "for x in frase:\n",
    "    x=x.capitalize()\n",
    "for x in frase:\n",
    "    print(x,end=\" \")\n",
    "\n"
   ]
  },
  {
   "cell_type": "code",
   "execution_count": null,
   "metadata": {},
   "outputs": [],
   "source": [
    "#Questão 12\n",
    "\n"
   ]
  }
 ],
 "metadata": {
  "kernelspec": {
   "display_name": "Python 3",
   "language": "python",
   "name": "python3"
  },
  "language_info": {
   "codemirror_mode": {
    "name": "ipython",
    "version": 3
   },
   "file_extension": ".py",
   "mimetype": "text/x-python",
   "name": "python",
   "nbconvert_exporter": "python",
   "pygments_lexer": "ipython3",
   "version": "3.10.12"
  },
  "orig_nbformat": 4
 },
 "nbformat": 4,
 "nbformat_minor": 2
}
