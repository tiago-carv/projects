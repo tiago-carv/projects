{
 "cells": [
  {
   "cell_type": "code",
   "execution_count": 3,
   "metadata": {},
   "outputs": [],
   "source": [
    "#Funções\n",
    "\n",
    "##Sublista dos k primeiros elementos\n",
    "\n",
    "def sub_l(list,k):\n",
    "    while(len(list)>k):\n",
    "        list.pop()\n",
    "    return list\n",
    "\n",
    "##Sublista dos k ultimos elementos\n",
    "def sub_l2(list,k):\n",
    "    i=0\n",
    "    while(len(list)!=k):\n",
    "        list.pop(i)\n",
    "    return list"
   ]
  },
  {
   "cell_type": "code",
   "execution_count": 41,
   "metadata": {},
   "outputs": [
    {
     "name": "stdout",
     "output_type": "stream",
     "text": [
      "01\n",
      "00\n",
      "00\n",
      "00:00:01\n"
     ]
    }
   ],
   "source": [
    "#Questão 1\n",
    "s = int(input(\"Digite um número: \"))\n",
    "\n",
    "min = s//60\n",
    "h = min//60\n",
    "\n",
    "if s%60<10:\n",
    "    segundos=f'0{s%60}'\n",
    "else:\n",
    "    segundos=f'{s%60}'\n",
    "print(segundos)\n",
    "\n",
    "if min%60<10:\n",
    "    minutos=f'0{min%60}'\n",
    "else:\n",
    "    minutos=f'{min%60}'\n",
    "print(minutos)\n",
    "\n",
    "if h<10:\n",
    "    horas=f'0{h%60}'\n",
    "else:\n",
    "    horas=f'{h%60}'\n",
    "print(horas)\n",
    "\n",
    "print(f'{horas}:{minutos}:{segundos}')\n"
   ]
  },
  {
   "cell_type": "code",
   "execution_count": 42,
   "metadata": {},
   "outputs": [
    {
     "name": "stdout",
     "output_type": "stream",
     "text": [
      "não é um triângulo retângulo\n"
     ]
    }
   ],
   "source": [
    "#Questão 2\n",
    "def triangRetang():\n",
    "    Lados = []\n",
    "    for i in range (3):\n",
    "        nums = int(input('numero: '))\n",
    "        Lados.append(nums)\n",
    "\n",
    "    k=0\n",
    "    z=0\n",
    "    for i in range (3):\n",
    "        l = Lados[i]\n",
    "        s =l*l\n",
    "        if (k<s):\n",
    "            k=s\n",
    "        z+=s\n",
    "\n",
    "    if(z-2*k==0):\n",
    "        print('É um triângulo retângulo')\n",
    "    else:\n",
    "        print('não é um triângulo retângulo')\n",
    "\n",
    "triangRetang()"
   ]
  },
  {
   "cell_type": "code",
   "execution_count": null,
   "metadata": {},
   "outputs": [],
   "source": [
    "#Questão3\n",
    "def subset():\n",
    "    elementos = []\n",
    "    for i in range (5):\n",
    "        nums = int(input('numero: '))\n",
    "        elementos.append(nums)\n",
    "    subele1 = sub_l(elementos,3)\n",
    "    subele2 = sub_l2(elementos,2)\n",
    "\n",
    "    if ((subele1[0] == subele2[0]) or (subele1[1] == subele2[0]) or (subele1[2] == subele2[0])) and ((subele1[0] == subele2[1]) or (subele1[1] == subele2[1]) or (subele1[2] == subele2[1])):\n",
    "        print('1')\n",
    "    else:\n",
    "        print('0')\n",
    "\n",
    "a = subset()\n",
    "print(a)\n"
   ]
  },
  {
   "cell_type": "code",
   "execution_count": null,
   "metadata": {},
   "outputs": [],
   "source": [
    "#Questão 4\n",
    "import divisores as di\n",
    "print(di.div(4))"
   ]
  }
 ],
 "metadata": {
  "kernelspec": {
   "display_name": "Python 3",
   "language": "python",
   "name": "python3"
  },
  "language_info": {
   "codemirror_mode": {
    "name": "ipython",
    "version": 3
   },
   "file_extension": ".py",
   "mimetype": "text/x-python",
   "name": "python",
   "nbconvert_exporter": "python",
   "pygments_lexer": "ipython3",
   "version": "3.10.12"
  },
  "orig_nbformat": 4
 },
 "nbformat": 4,
 "nbformat_minor": 2
}
